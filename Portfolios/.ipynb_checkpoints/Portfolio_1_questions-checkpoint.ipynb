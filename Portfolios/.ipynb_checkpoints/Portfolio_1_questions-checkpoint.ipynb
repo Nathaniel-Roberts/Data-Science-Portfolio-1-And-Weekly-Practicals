{
 "cells": [
  {
   "cell_type": "markdown",
   "id": "066b611f",
   "metadata": {},
   "source": [
    "### Analysis of an E-commerce Dataset\n",
    "\n",
    "We have been provided with a combined e-commerce dataset. In this dataset, each user has the ability to post a rating and review for the products they purchased. Additionally, other users can evaluate the initial rating and review by expressing their trust or distrust.\n",
    "\n",
    "This dataset includes a wealth of information for each user. Details such as their profile, ID, gender, city of birth, product ratings (on a scale of 1-5), reviews, and the prices of the products they purchased are all included. Moreover, for each product rating, we have information about the product name, ID, price, and category, the rating score, the timestamp of the rating and review, and the average helpfulness of the rating given by others (on a scale of 1-5).\n",
    "\n",
    "The dataset is from several data sources, and we have merged all the data into a single CSV file named 'A Combined E-commerce Dataset.csv'. The structure of this dataset is represented in the header shown below.\n",
    "\n",
    "| userId | gender | rating | review| item | category | helpfulness | timestamp | item_id | item_price | user_city|\n",
    "\n",
    "    | ---- | ---- | ---- | ---- | ---- | ---- | ---- | ---- | ---- |  ---- |  ---- |  \n",
    "    \n",
    "#### Description of Fields\n",
    "\n",
    "* __userId__ - the user's id\n",
    "* __gender__ - the user's gender\n",
    "* __rating__ - the user's rating towards the item\n",
    "* __review__ - the user's review towards the item\n",
    "* __item__ - the item's name\n",
    "* __category__ - the category of the item\n",
    "* __helpfulness__ - the average helpfulness of this rating\n",
    "* __timestamp__ - the timestamp when the rating is created\n",
    "* __item_id__ - the item's id\n",
    "* __item_price__ - the item's price\n",
    "* __user_city__ - the city of user's birth\n",
    "\n",
    "Note that, a user may rate multiple items and an item may receive ratings and reviews from multiple users. The \"helpfulness\" is an average value based on all the helpfulness values given by others.\n",
    "\n",
    "There are four questions to explore with the data as shown below.\n",
    "\n",
    "\n",
    "\n",
    "<img src=\"data-relation.png\" align=\"left\" width=\"400\"/>\n"
   ]
  },
  {
   "cell_type": "markdown",
   "id": "b42d8295",
   "metadata": {},
   "source": [
    " #### Q1. Remove missing data\n",
    " \n",
    "Please remove the following records in the csv file: \n",
    " \n",
    " * gender/rating/helpfulness is missing\n",
    " * review is 'none'\n",
    "\n",
    "__Display the DataFrame, counting number of Null values in each column, and print the length of the data__ before and after removing the missing data.  "
   ]
  },
  {
   "cell_type": "code",
   "execution_count": 1,
   "id": "2dd7da19",
   "metadata": {},
   "outputs": [
    {
     "data": {
      "text/html": [
       "<div>\n",
       "<style scoped>\n",
       "    .dataframe tbody tr th:only-of-type {\n",
       "        vertical-align: middle;\n",
       "    }\n",
       "\n",
       "    .dataframe tbody tr th {\n",
       "        vertical-align: top;\n",
       "    }\n",
       "\n",
       "    .dataframe thead th {\n",
       "        text-align: right;\n",
       "    }\n",
       "</style>\n",
       "<table border=\"1\" class=\"dataframe\">\n",
       "  <thead>\n",
       "    <tr style=\"text-align: right;\">\n",
       "      <th></th>\n",
       "      <th>userId</th>\n",
       "      <th>timestamp</th>\n",
       "      <th>review</th>\n",
       "      <th>item</th>\n",
       "      <th>rating</th>\n",
       "      <th>helpfulness</th>\n",
       "      <th>gender</th>\n",
       "      <th>category</th>\n",
       "      <th>item_id</th>\n",
       "      <th>item_price</th>\n",
       "      <th>user_city</th>\n",
       "    </tr>\n",
       "  </thead>\n",
       "  <tbody>\n",
       "    <tr>\n",
       "      <th>0</th>\n",
       "      <td>4051</td>\n",
       "      <td>12807</td>\n",
       "      <td>Great job for what it is!</td>\n",
       "      <td>eBay</td>\n",
       "      <td>5.0</td>\n",
       "      <td>2.0</td>\n",
       "      <td>F</td>\n",
       "      <td>Online Stores &amp; Services</td>\n",
       "      <td>88</td>\n",
       "      <td>149.00</td>\n",
       "      <td>39</td>\n",
       "    </tr>\n",
       "    <tr>\n",
       "      <th>1</th>\n",
       "      <td>4052</td>\n",
       "      <td>122899</td>\n",
       "      <td>Free Access Worth your Time</td>\n",
       "      <td>NetZero</td>\n",
       "      <td>5.0</td>\n",
       "      <td>0.0</td>\n",
       "      <td>F</td>\n",
       "      <td>Online Stores &amp; Services</td>\n",
       "      <td>46</td>\n",
       "      <td>53.00</td>\n",
       "      <td>39</td>\n",
       "    </tr>\n",
       "    <tr>\n",
       "      <th>2</th>\n",
       "      <td>33</td>\n",
       "      <td>12700</td>\n",
       "      <td>AOL..I love you!!!!!!!!!!!!</td>\n",
       "      <td>AOL (America Online)</td>\n",
       "      <td>5.0</td>\n",
       "      <td>4.0</td>\n",
       "      <td>F</td>\n",
       "      <td>Online Stores &amp; Services</td>\n",
       "      <td>0</td>\n",
       "      <td>145.84</td>\n",
       "      <td>31</td>\n",
       "    </tr>\n",
       "    <tr>\n",
       "      <th>3</th>\n",
       "      <td>33</td>\n",
       "      <td>21000</td>\n",
       "      <td>EBAY!!!  I LOVE YOU!!!! :-)*</td>\n",
       "      <td>eBay</td>\n",
       "      <td>5.0</td>\n",
       "      <td>4.0</td>\n",
       "      <td>F</td>\n",
       "      <td>Online Stores &amp; Services</td>\n",
       "      <td>88</td>\n",
       "      <td>149.00</td>\n",
       "      <td>31</td>\n",
       "    </tr>\n",
       "    <tr>\n",
       "      <th>4</th>\n",
       "      <td>33</td>\n",
       "      <td>22300</td>\n",
       "      <td>Blair Witch...Oh Come On.......</td>\n",
       "      <td>Blair Witch Project</td>\n",
       "      <td>1.0</td>\n",
       "      <td>4.0</td>\n",
       "      <td>F</td>\n",
       "      <td>Movies</td>\n",
       "      <td>12</td>\n",
       "      <td>44.00</td>\n",
       "      <td>31</td>\n",
       "    </tr>\n",
       "  </tbody>\n",
       "</table>\n",
       "</div>"
      ],
      "text/plain": [
       "   userId  timestamp                           review                  item  \\\n",
       "0    4051      12807        Great job for what it is!                  eBay   \n",
       "1    4052     122899      Free Access Worth your Time               NetZero   \n",
       "2      33      12700    AOL..I love you!!!!!!!!!!!!    AOL (America Online)   \n",
       "3      33      21000     EBAY!!!  I LOVE YOU!!!! :-)*                  eBay   \n",
       "4      33      22300  Blair Witch...Oh Come On.......   Blair Witch Project   \n",
       "\n",
       "   rating  helpfulness gender                  category  item_id  item_price  \\\n",
       "0     5.0          2.0      F  Online Stores & Services       88      149.00   \n",
       "1     5.0          0.0      F  Online Stores & Services       46       53.00   \n",
       "2     5.0          4.0      F  Online Stores & Services        0      145.84   \n",
       "3     5.0          4.0      F  Online Stores & Services       88      149.00   \n",
       "4     1.0          4.0      F                    Movies       12       44.00   \n",
       "\n",
       "   user_city  \n",
       "0         39  \n",
       "1         39  \n",
       "2         31  \n",
       "3         31  \n",
       "4         31  "
      ]
     },
     "execution_count": 1,
     "metadata": {},
     "output_type": "execute_result"
    }
   ],
   "source": [
    "import pandas as pd\n",
    "import numpy as np\n",
    "import matplotlib.pyplot as plt\n",
    "pd.options.mode.chained_assignment = None  # default='warn'\n",
    "\n",
    "#Display The DataFrame\n",
    "df = pd.read_csv(\"data/The E-commerce Dataset.csv\")\n",
    "df.head()"
   ]
  },
  {
   "cell_type": "code",
   "execution_count": 2,
   "id": "5bd709dc",
   "metadata": {},
   "outputs": [
    {
     "name": "stdout",
     "output_type": "stream",
     "text": [
      "Null Values in userId: 0\n",
      "Null Values in timestamp: 0\n",
      "Null Values in review: 0\n",
      "Null Values in item: 0\n",
      "Null Values in rating: 17\n",
      "Null Values in helpfulness: 22\n",
      "Null Values in gender: 27\n",
      "Null Values in category: 0\n",
      "Null Values in item_id: 0\n",
      "Null Values in item_price: 0\n",
      "Null Values in user_city: 0\n"
     ]
    }
   ],
   "source": [
    "# Number of Null Values In Each Column\n",
    "print(\"Null Values in userId:\",df['userId'].isna().sum())\n",
    "print(\"Null Values in timestamp:\",df['timestamp'].isna().sum())\n",
    "print(\"Null Values in review:\",df['review'].isna().sum())\n",
    "print(\"Null Values in item:\",df['item'].isna().sum())\n",
    "print(\"Null Values in rating:\",df['rating'].isna().sum())\n",
    "print(\"Null Values in helpfulness:\",df['helpfulness'].isna().sum())\n",
    "print(\"Null Values in gender:\",df['gender'].isna().sum())\n",
    "print(\"Null Values in category:\",df['category'].isna().sum())\n",
    "print(\"Null Values in item_id:\",df['item_id'].isna().sum())\n",
    "print(\"Null Values in item_price:\",df['item_price'].isna().sum())\n",
    "print(\"Null Values in user_city:\",df['user_city'].isna().sum())"
   ]
  },
  {
   "cell_type": "code",
   "execution_count": 3,
   "id": "41c84fe5",
   "metadata": {},
   "outputs": [
    {
     "name": "stdout",
     "output_type": "stream",
     "text": [
      "The length of the data is: 20000\n"
     ]
    }
   ],
   "source": [
    "# Length of Data\n",
    "print(\"The length of the data is:\", len(df.index))"
   ]
  },
  {
   "cell_type": "code",
   "execution_count": 4,
   "id": "e071c374",
   "metadata": {},
   "outputs": [],
   "source": [
    "# Removal of Data\n",
    "df_new = df.dropna(subset=[\"gender\",\"rating\",\"helpfulness\"])\n",
    "df_new.drop(df_new[df_new['review'] == \"none\"].index, inplace = True)"
   ]
  },
  {
   "cell_type": "code",
   "execution_count": 5,
   "id": "304e5a06",
   "metadata": {},
   "outputs": [
    {
     "data": {
      "text/html": [
       "<div>\n",
       "<style scoped>\n",
       "    .dataframe tbody tr th:only-of-type {\n",
       "        vertical-align: middle;\n",
       "    }\n",
       "\n",
       "    .dataframe tbody tr th {\n",
       "        vertical-align: top;\n",
       "    }\n",
       "\n",
       "    .dataframe thead th {\n",
       "        text-align: right;\n",
       "    }\n",
       "</style>\n",
       "<table border=\"1\" class=\"dataframe\">\n",
       "  <thead>\n",
       "    <tr style=\"text-align: right;\">\n",
       "      <th></th>\n",
       "      <th>userId</th>\n",
       "      <th>timestamp</th>\n",
       "      <th>review</th>\n",
       "      <th>item</th>\n",
       "      <th>rating</th>\n",
       "      <th>helpfulness</th>\n",
       "      <th>gender</th>\n",
       "      <th>category</th>\n",
       "      <th>item_id</th>\n",
       "      <th>item_price</th>\n",
       "      <th>user_city</th>\n",
       "    </tr>\n",
       "  </thead>\n",
       "  <tbody>\n",
       "    <tr>\n",
       "      <th>0</th>\n",
       "      <td>4051</td>\n",
       "      <td>12807</td>\n",
       "      <td>Great job for what it is!</td>\n",
       "      <td>eBay</td>\n",
       "      <td>5.0</td>\n",
       "      <td>2.0</td>\n",
       "      <td>F</td>\n",
       "      <td>Online Stores &amp; Services</td>\n",
       "      <td>88</td>\n",
       "      <td>149.00</td>\n",
       "      <td>39</td>\n",
       "    </tr>\n",
       "    <tr>\n",
       "      <th>1</th>\n",
       "      <td>4052</td>\n",
       "      <td>122899</td>\n",
       "      <td>Free Access Worth your Time</td>\n",
       "      <td>NetZero</td>\n",
       "      <td>5.0</td>\n",
       "      <td>0.0</td>\n",
       "      <td>F</td>\n",
       "      <td>Online Stores &amp; Services</td>\n",
       "      <td>46</td>\n",
       "      <td>53.00</td>\n",
       "      <td>39</td>\n",
       "    </tr>\n",
       "    <tr>\n",
       "      <th>2</th>\n",
       "      <td>33</td>\n",
       "      <td>12700</td>\n",
       "      <td>AOL..I love you!!!!!!!!!!!!</td>\n",
       "      <td>AOL (America Online)</td>\n",
       "      <td>5.0</td>\n",
       "      <td>4.0</td>\n",
       "      <td>F</td>\n",
       "      <td>Online Stores &amp; Services</td>\n",
       "      <td>0</td>\n",
       "      <td>145.84</td>\n",
       "      <td>31</td>\n",
       "    </tr>\n",
       "    <tr>\n",
       "      <th>3</th>\n",
       "      <td>33</td>\n",
       "      <td>21000</td>\n",
       "      <td>EBAY!!!  I LOVE YOU!!!! :-)*</td>\n",
       "      <td>eBay</td>\n",
       "      <td>5.0</td>\n",
       "      <td>4.0</td>\n",
       "      <td>F</td>\n",
       "      <td>Online Stores &amp; Services</td>\n",
       "      <td>88</td>\n",
       "      <td>149.00</td>\n",
       "      <td>31</td>\n",
       "    </tr>\n",
       "    <tr>\n",
       "      <th>4</th>\n",
       "      <td>33</td>\n",
       "      <td>22300</td>\n",
       "      <td>Blair Witch...Oh Come On.......</td>\n",
       "      <td>Blair Witch Project</td>\n",
       "      <td>1.0</td>\n",
       "      <td>4.0</td>\n",
       "      <td>F</td>\n",
       "      <td>Movies</td>\n",
       "      <td>12</td>\n",
       "      <td>44.00</td>\n",
       "      <td>31</td>\n",
       "    </tr>\n",
       "  </tbody>\n",
       "</table>\n",
       "</div>"
      ],
      "text/plain": [
       "   userId  timestamp                           review                  item  \\\n",
       "0    4051      12807        Great job for what it is!                  eBay   \n",
       "1    4052     122899      Free Access Worth your Time               NetZero   \n",
       "2      33      12700    AOL..I love you!!!!!!!!!!!!    AOL (America Online)   \n",
       "3      33      21000     EBAY!!!  I LOVE YOU!!!! :-)*                  eBay   \n",
       "4      33      22300  Blair Witch...Oh Come On.......   Blair Witch Project   \n",
       "\n",
       "   rating  helpfulness gender                  category  item_id  item_price  \\\n",
       "0     5.0          2.0      F  Online Stores & Services       88      149.00   \n",
       "1     5.0          0.0      F  Online Stores & Services       46       53.00   \n",
       "2     5.0          4.0      F  Online Stores & Services        0      145.84   \n",
       "3     5.0          4.0      F  Online Stores & Services       88      149.00   \n",
       "4     1.0          4.0      F                    Movies       12       44.00   \n",
       "\n",
       "   user_city  \n",
       "0         39  \n",
       "1         39  \n",
       "2         31  \n",
       "3         31  \n",
       "4         31  "
      ]
     },
     "execution_count": 5,
     "metadata": {},
     "output_type": "execute_result"
    }
   ],
   "source": [
    "#Display The New DataFrame\n",
    "df_new.head()"
   ]
  },
  {
   "cell_type": "code",
   "execution_count": 6,
   "id": "03c16d69",
   "metadata": {},
   "outputs": [
    {
     "name": "stdout",
     "output_type": "stream",
     "text": [
      "Null Values in userId: 0\n",
      "Null Values in timestamp: 0\n",
      "Null Values in review: 0\n",
      "Null Values in item: 0\n",
      "Null Values in rating: 0\n",
      "Null Values in helpfulness: 0\n",
      "Null Values in gender: 0\n",
      "Null Values in category: 0\n",
      "Null Values in item_id: 0\n",
      "Null Values in item_price: 0\n",
      "Null Values in user_city: 0\n"
     ]
    }
   ],
   "source": [
    "# Number of Null Values In Each Column of the New Dataframe\n",
    "print(\"Null Values in userId:\",df_new['userId'].isna().sum())\n",
    "print(\"Null Values in timestamp:\",df_new['timestamp'].isna().sum())\n",
    "print(\"Null Values in review:\",df_new['review'].isna().sum())\n",
    "print(\"Null Values in item:\",df_new['item'].isna().sum())\n",
    "print(\"Null Values in rating:\",df_new['rating'].isna().sum())\n",
    "print(\"Null Values in helpfulness:\",df_new['helpfulness'].isna().sum())\n",
    "print(\"Null Values in gender:\",df_new['gender'].isna().sum())\n",
    "print(\"Null Values in category:\",df_new['category'].isna().sum())\n",
    "print(\"Null Values in item_id:\",df_new['item_id'].isna().sum())\n",
    "print(\"Null Values in item_price:\",df_new['item_price'].isna().sum())\n",
    "print(\"Null Values in user_city:\",df_new['user_city'].isna().sum())"
   ]
  },
  {
   "cell_type": "code",
   "execution_count": 7,
   "id": "995eab12",
   "metadata": {},
   "outputs": [
    {
     "name": "stdout",
     "output_type": "stream",
     "text": [
      "The length of the data is: 19916\n"
     ]
    }
   ],
   "source": [
    "# Length of New Data\n",
    "print(\"The length of the data is:\", len(df_new.index))"
   ]
  },
  {
   "cell_type": "markdown",
   "id": "1a9b4b61",
   "metadata": {},
   "source": [
    "#### Q2. Descriptive statistics\n",
    "\n",
    "With the cleaned data in Q1, please provide the data summarization as below:\n",
    "\n",
    "* Q2.1 total number of unique users, unique reviews, unique items, and unique categories\n",
    "* Q2.2 descriptive statistics, e.g., the total number, mean, std, min and max regarding all rating records\n",
    "* Q2.3 descriptive statistics, e.g., mean, std, max, and min of the number of items rated by different genders \n",
    "* Q2.4 descriptive statistics, e.g., mean, std, max, min of the number of ratings that received by each items \n"
   ]
  },
  {
   "cell_type": "code",
   "execution_count": 8,
   "id": "40ac9afe",
   "metadata": {},
   "outputs": [
    {
     "name": "stdout",
     "output_type": "stream",
     "text": [
      "Total Number of Unique Users: 8562\n",
      "Total Number of Unique Reviews: 19459\n",
      "Total Number of Unique Items: 89\n",
      "Total Number of Unique Categories: 9\n"
     ]
    }
   ],
   "source": [
    "#Q2.1\n",
    "print(\"Total Number of Unique Users:\", len(df_new.userId.unique()))\n",
    "print(\"Total Number of Unique Reviews:\", len(df_new.review.unique()))\n",
    "print(\"Total Number of Unique Items:\", len(df_new.item.unique()))\n",
    "print(\"Total Number of Unique Categories:\", len(df_new.category.unique()))"
   ]
  },
  {
   "cell_type": "code",
   "execution_count": 9,
   "id": "5d4820ed",
   "metadata": {},
   "outputs": [
    {
     "name": "stdout",
     "output_type": "stream",
     "text": [
      "Descriptive Statistics of the Rating Records:\n",
      "count    19916.000000\n",
      "mean         3.701798\n",
      "std          1.404451\n",
      "min          1.000000\n",
      "25%          3.000000\n",
      "50%          4.000000\n",
      "75%          5.000000\n",
      "max          5.000000\n",
      "Name: rating, dtype: float64\n"
     ]
    }
   ],
   "source": [
    "#Q2.2\n",
    "print(\"Descriptive Statistics of the Rating Records:\")\n",
    "print(df_new.rating.describe())"
   ]
  },
  {
   "cell_type": "code",
   "execution_count": 10,
   "id": "f1b3835d",
   "metadata": {},
   "outputs": [
    {
     "name": "stdout",
     "output_type": "stream",
     "text": [
      "Descriptive Statistics of the Number of Items Rated by Different Genders:\n",
      "        count unique                   top freq\n",
      "gender                                         \n",
      "F        9793     89  AOL (America Online)  457\n",
      "M       10123     89  AOL (America Online)  482\n"
     ]
    }
   ],
   "source": [
    "#Q2.3\n",
    "print(\"Descriptive Statistics of the Number of Items Rated by Different Genders:\")\n",
    "print(df_new.groupby(\"gender\").item.describe())"
   ]
  },
  {
   "cell_type": "code",
   "execution_count": 11,
   "id": "f98efff0",
   "metadata": {},
   "outputs": [
    {
     "name": "stdout",
     "output_type": "stream",
     "text": [
      "Descriptive Statistics of the Number of Ratings That Recieved By Each Item:\n",
      "                       count      mean       std  min   25%  50%  75%  max\n",
      "item                                                                      \n",
      "AOL (America Online)   939.0  2.500532  1.368528  1.0  1.00  2.0  4.0  5.0\n",
      "All Advantage          657.0  3.412481  1.541706  1.0  2.00  4.0  5.0  5.0\n",
      "Alta Vista (by 1stUp)  157.0  3.541401  1.263341  1.0  3.00  4.0  4.0  5.0\n",
      "Amazon.com             240.0  3.683333  1.571095  1.0  2.00  4.0  5.0  5.0\n",
      "American Airlines      185.0  3.054054  1.417015  1.0  2.00  3.0  4.0  5.0\n",
      "...                      ...       ...       ...  ...   ...  ...  ...  ...\n",
      "Wendy's                210.0  3.971429  1.093322  1.0  3.25  4.0  5.0  5.0\n",
      "What Lies Beneath      160.0  3.450000  1.201676  1.0  3.00  3.5  4.0  5.0\n",
      "X-Men                  245.0  4.118367  0.853074  1.0  4.00  4.0  5.0  5.0\n",
      "X.com                  173.0  4.023121  1.474409  1.0  3.00  5.0  5.0  5.0\n",
      "eBay                   596.0  4.333893  0.949618  1.0  4.00  5.0  5.0  5.0\n",
      "\n",
      "[89 rows x 8 columns]\n"
     ]
    }
   ],
   "source": [
    "#Q2.4\n",
    "print(\"Descriptive Statistics of the Number of Ratings That Recieved By Each Item:\")\n",
    "print(df_new.groupby(\"item\").rating.describe())"
   ]
  },
  {
   "cell_type": "markdown",
   "id": "0e1b1078",
   "metadata": {},
   "source": [
    "#### Q3. Plotting and Analysis\n",
    "\n",
    "Please try to explore the correlation between gender/helpfulness/category and ratings; for instance, do female/male users tend to provide higher ratings than male/female users? Hint: you may use the boxplot function to plot figures for comparison (___Challenge___)\n",
    "    \n",
    "You may need to select the most suitable graphic forms for ease of presentation. Most importantly, for each figure or subfigure, please summarise ___what each plot shows___ (i.e. observations and explanations). Finally, you may need to provide an overall summary of the data."
   ]
  },
  {
   "cell_type": "code",
   "execution_count": 17,
   "id": "a0c30d0d",
   "metadata": {},
   "outputs": [
    {
     "data": {
      "image/png": "[encoded data removed]",
      "text/plain": [
       "<Figure size 1800x600 with 3 Axes>"
      ]
     },
     "metadata": {},
     "output_type": "display_data"
    }
   ],
   "source": [
    "import seaborn as sns\n",
    "plt.figure(figsize=(18, 6))\n",
    "\n",
    "# First graph: Ratings by Gender and Category\n",
    "plt.subplot(1, 3, 1)\n",
    "ax1 = sns.boxplot(x='gender', y='rating', hue='category', data=df_new)\n",
    "plt.title('Distribution of Ratings by Gender and Category')\n",
    "plt.xlabel('Gender')\n",
    "plt.ylabel('Ratings')\n",
    "ax1.legend(title='Category', bbox_to_anchor=(1, 1))\n",
    "\n",
    "\n",
    "# Second graph: Ratings by Gender and Helpfulness\n",
    "plt.subplot(1, 3, 2)\n",
    "ax2 = sns.boxplot(x='gender', y='rating', hue='helpfulness', data=df_new)\n",
    "plt.title('Distribution of Ratings by Gender and Helpfulness')\n",
    "plt.xlabel('Gender')\n",
    "plt.ylabel('Ratings')\n",
    "ax2.legend(title='Helpfulness', bbox_to_anchor=(1, 1))\n",
    "\n",
    "# Third graph: \n",
    "plt.subplot(1, 3, 3)\n",
    "sns.scatterplot(x='helpfulness', y='rating', hue='gender', data=df_new)\n",
    "plt.title('Scatter Plot of Ratings by Helpfulness')\n",
    "plt.xlabel('Helpfulness')\n",
    "plt.ylabel('Ratings')\n",
    "plt.legend(title='Gender', bbox_to_anchor=(1, 1))\n",
    "\n",
    "\n",
    "plt.tight_layout()\n",
    "plt.show()"
   ]
  },
  {
   "cell_type": "markdown",
   "id": "5ea6a623",
   "metadata": {},
   "source": [
    "# Summarise Data\n",
    "## Figure 1\n",
    "Ratings given by both genders have similar distributions, regardless of cateogry. Gender does not appear to significantly influence ratings of particular categories.\n",
    "\n",
    "## Figure 2\n",
    "Ratings are consistent across genders for different levels of helpfulness. Regardless of the percieved helpfulness of reviews, Gender doesn't exhibit an impact on ratings.\n",
    "\n",
    "## Figure 3\n",
    "There is no clear correlation between helpfullness and ratings. The level of helpfulness doesn't necessarily correspond to higher ratings.\n",
    "\n",
    "## Overall Summary\n",
    "The data suggests that gender, helpfulness and categories have little to no influence on the ratings provided by users.\n",
    "The absence of this influence implies that other factors contribute more to the ratings given by users."
   ]
  },
  {
   "cell_type": "markdown",
   "id": "2f2bd444",
   "metadata": {},
   "source": [
    "#### Q4. Detect and remove outliers\n",
    "\n",
    "We may define outlier users, reviews and items with three rules (if a record meets one of the rules, it is regarded as an outlier):\n",
    "\n",
    "* reviews of which the helpfulness is no more than 2\n",
    "* users who rate less than 7 items\n",
    "* items that receives less than 11 ratings \n",
    " \n",
    "Please remove the corresponding records in the csv file that involves outlier users, reviews and items. After that, __print the length of the data__."
   ]
  },
  {
   "cell_type": "code",
   "execution_count": null,
   "id": "50f473f1",
   "metadata": {},
   "outputs": [],
   "source": []
  }
 ],
 "metadata": {
  "kernelspec": {
   "display_name": "Python 3 (ipykernel)",
   "language": "python",
   "name": "python3"
  },
  "language_info": {
   "codemirror_mode": {
    "name": "ipython",
    "version": 3
   },
   "file_extension": ".py",
   "mimetype": "text/x-python",
   "name": "python",
   "nbconvert_exporter": "python",
   "pygments_lexer": "ipython3",
   "version": "3.11.3"
  }
 },
 "nbformat": 4,
 "nbformat_minor": 5
}
